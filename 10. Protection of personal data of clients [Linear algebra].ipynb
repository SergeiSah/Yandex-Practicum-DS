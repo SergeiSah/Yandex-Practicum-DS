{
 "cells": [
  {
   "cell_type": "markdown",
   "metadata": {
    "toc": true
   },
   "source": [
    "<h1>Содержание<span class=\"tocSkip\"></span></h1>\n",
    "<div class=\"toc\"><ul class=\"toc-item\"><li><span><a href=\"#Загрузка-данных\" data-toc-modified-id=\"Загрузка-данных-1\"><span class=\"toc-item-num\">1&nbsp;&nbsp;</span>Загрузка данных</a></span><ul class=\"toc-item\"><li><span><a href=\"#Вывод\" data-toc-modified-id=\"Вывод-1.1\"><span class=\"toc-item-num\">1.1&nbsp;&nbsp;</span>Вывод</a></span></li></ul></li><li><span><a href=\"#Умножение-матриц\" data-toc-modified-id=\"Умножение-матриц-2\"><span class=\"toc-item-num\">2&nbsp;&nbsp;</span>Умножение матриц</a></span></li><li><span><a href=\"#Алгоритм-преобразования\" data-toc-modified-id=\"Алгоритм-преобразования-3\"><span class=\"toc-item-num\">3&nbsp;&nbsp;</span>Алгоритм преобразования</a></span></li><li><span><a href=\"#Проверка-алгоритма\" data-toc-modified-id=\"Проверка-алгоритма-4\"><span class=\"toc-item-num\">4&nbsp;&nbsp;</span>Проверка алгоритма</a></span></li><li><span><a href=\"#Вывод\" data-toc-modified-id=\"Вывод-5\"><span class=\"toc-item-num\">5&nbsp;&nbsp;</span>Вывод</a></span></li><li><span><a href=\"#Чек-лист-проверки\" data-toc-modified-id=\"Чек-лист-проверки-6\"><span class=\"toc-item-num\">6&nbsp;&nbsp;</span>Чек-лист проверки</a></span></li></ul></div>"
   ]
  },
  {
   "cell_type": "markdown",
   "metadata": {},
   "source": [
    "# Защита персональных данных клиентов"
   ]
  },
  {
   "cell_type": "markdown",
   "metadata": {},
   "source": [
    "Вам нужно защитить данные клиентов страховой компании «Хоть потоп». Разработайте такой метод преобразования данных, чтобы по ним было сложно восстановить персональную информацию. Обоснуйте корректность его работы.\n",
    "\n",
    "Нужно защитить данные, чтобы при преобразовании качество моделей машинного обучения не ухудшилось. Подбирать наилучшую модель не требуется."
   ]
  },
  {
   "cell_type": "markdown",
   "metadata": {},
   "source": [
    "## Загрузка данных"
   ]
  },
  {
   "cell_type": "code",
   "execution_count": 3,
   "metadata": {},
   "outputs": [],
   "source": [
    "import os\n",
    "\n",
    "import phik\n",
    "import pandas as pd\n",
    "import numpy as np\n",
    "import statsmodels.api as sm\n",
    "from sklearn.model_selection import train_test_split\n",
    "from sklearn.linear_model import LinearRegression\n",
    "from sklearn.metrics import r2_score\n",
    "import matplotlib.pyplot as plt\n",
    "import seaborn as sns"
   ]
  },
  {
   "cell_type": "code",
   "execution_count": 4,
   "metadata": {},
   "outputs": [],
   "source": [
    "sns.set(\n",
    "    style='darkgrid'\n",
    ")"
   ]
  },
  {
   "cell_type": "code",
   "execution_count": 6,
   "metadata": {},
   "outputs": [
    {
     "data": {
      "text/html": [
       "<div>\n",
       "<style scoped>\n",
       "    .dataframe tbody tr th:only-of-type {\n",
       "        vertical-align: middle;\n",
       "    }\n",
       "\n",
       "    .dataframe tbody tr th {\n",
       "        vertical-align: top;\n",
       "    }\n",
       "\n",
       "    .dataframe thead th {\n",
       "        text-align: right;\n",
       "    }\n",
       "</style>\n",
       "<table border=\"1\" class=\"dataframe\">\n",
       "  <thead>\n",
       "    <tr style=\"text-align: right;\">\n",
       "      <th></th>\n",
       "      <th>Пол</th>\n",
       "      <th>Возраст</th>\n",
       "      <th>Зарплата</th>\n",
       "      <th>Члены семьи</th>\n",
       "      <th>Страховые выплаты</th>\n",
       "    </tr>\n",
       "  </thead>\n",
       "  <tbody>\n",
       "    <tr>\n",
       "      <th>979</th>\n",
       "      <td>0</td>\n",
       "      <td>45.0</td>\n",
       "      <td>39900.0</td>\n",
       "      <td>0</td>\n",
       "      <td>1</td>\n",
       "    </tr>\n",
       "    <tr>\n",
       "      <th>2627</th>\n",
       "      <td>1</td>\n",
       "      <td>39.0</td>\n",
       "      <td>22500.0</td>\n",
       "      <td>0</td>\n",
       "      <td>0</td>\n",
       "    </tr>\n",
       "    <tr>\n",
       "      <th>3466</th>\n",
       "      <td>0</td>\n",
       "      <td>22.0</td>\n",
       "      <td>32700.0</td>\n",
       "      <td>4</td>\n",
       "      <td>0</td>\n",
       "    </tr>\n",
       "    <tr>\n",
       "      <th>953</th>\n",
       "      <td>1</td>\n",
       "      <td>18.0</td>\n",
       "      <td>38800.0</td>\n",
       "      <td>1</td>\n",
       "      <td>0</td>\n",
       "    </tr>\n",
       "    <tr>\n",
       "      <th>454</th>\n",
       "      <td>0</td>\n",
       "      <td>27.0</td>\n",
       "      <td>27700.0</td>\n",
       "      <td>1</td>\n",
       "      <td>0</td>\n",
       "    </tr>\n",
       "  </tbody>\n",
       "</table>\n",
       "</div>"
      ],
      "text/plain": [
       "      Пол  Возраст  Зарплата  Члены семьи  Страховые выплаты\n",
       "979     0     45.0   39900.0            0                  1\n",
       "2627    1     39.0   22500.0            0                  0\n",
       "3466    0     22.0   32700.0            4                  0\n",
       "953     1     18.0   38800.0            1                  0\n",
       "454     0     27.0   27700.0            1                  0"
      ]
     },
     "execution_count": 6,
     "metadata": {},
     "output_type": "execute_result"
    }
   ],
   "source": [
    "person_df = pd.read_csv('./datasets/insurance.csv')\n",
    "\n",
    "# выводим случайные пять строк датасета\n",
    "person_df.sample(5)"
   ]
  },
  {
   "cell_type": "code",
   "execution_count": 7,
   "metadata": {},
   "outputs": [],
   "source": [
    "# придерживаемся pythonic way\n",
    "pythonic_names = {\n",
    "    'Пол': 'sex',\n",
    "    'Возраст': 'age',\n",
    "    'Зарплата': 'salary',\n",
    "    'Члены семьи': 'family_members',\n",
    "    'Страховые выплаты': 'insurance_payments'\n",
    "}\n",
    "\n",
    "person_df = person_df.rename(columns=pythonic_names)"
   ]
  },
  {
   "cell_type": "code",
   "execution_count": 8,
   "metadata": {},
   "outputs": [
    {
     "name": "stdout",
     "output_type": "stream",
     "text": [
      "<class 'pandas.core.frame.DataFrame'>\n",
      "RangeIndex: 5000 entries, 0 to 4999\n",
      "Data columns (total 5 columns):\n",
      " #   Column              Non-Null Count  Dtype  \n",
      "---  ------              --------------  -----  \n",
      " 0   sex                 5000 non-null   int64  \n",
      " 1   age                 5000 non-null   float64\n",
      " 2   salary              5000 non-null   float64\n",
      " 3   family_members      5000 non-null   int64  \n",
      " 4   insurance_payments  5000 non-null   int64  \n",
      "dtypes: float64(2), int64(3)\n",
      "memory usage: 195.4 KB\n"
     ]
    }
   ],
   "source": [
    "# выведем основную информацию\n",
    "person_df.info()"
   ]
  },
  {
   "cell_type": "markdown",
   "metadata": {},
   "source": [
    "Как видим, во всех колонках нет отсутствующих значений. Посмотрим на количество уникальных значений в колонках `Пол`, `Члены семьи` и `Страховые выплаты`."
   ]
  },
  {
   "cell_type": "code",
   "execution_count": 9,
   "metadata": {},
   "outputs": [
    {
     "name": "stdout",
     "output_type": "stream",
     "text": [
      "Число уникальных значений в колонке\n",
      "                 sex: 2\n",
      "      family_members: 7\n",
      "  insurance_payments: 6\n"
     ]
    }
   ],
   "source": [
    "cols = ['sex', 'family_members', 'insurance_payments']\n",
    "\n",
    "print('Число уникальных значений в колонке')\n",
    "for col in cols:\n",
    "    print(f'{col:>20}:', person_df[col].nunique())"
   ]
  },
  {
   "cell_type": "markdown",
   "metadata": {},
   "source": [
    "По идее, максимальные числа в рассматриваемых колонках должны отличаться на единицу от числа уникальных значений, проверим это. "
   ]
  },
  {
   "cell_type": "code",
   "execution_count": 10,
   "metadata": {},
   "outputs": [
    {
     "name": "stdout",
     "output_type": "stream",
     "text": [
      "максимальное число в колонке\n",
      "                 sex: 1\n",
      "      family_members: 6\n",
      "  insurance_payments: 5\n"
     ]
    }
   ],
   "source": [
    "print('максимальное число в колонке')\n",
    "for col in cols:\n",
    "    print(f'{col:>20}:', person_df[col].unique().max())"
   ]
  },
  {
   "cell_type": "code",
   "execution_count": 11,
   "metadata": {},
   "outputs": [],
   "source": [
    "# преобразуем типы данных в колонках\n",
    "for dtype, col in zip(['bool', 'uint8', 'uint8'], cols):\n",
    "    person_df[col] = person_df[col].astype(dtype)"
   ]
  },
  {
   "cell_type": "code",
   "execution_count": 12,
   "metadata": {},
   "outputs": [
    {
     "data": {
      "text/plain": [
       "153"
      ]
     },
     "execution_count": 12,
     "metadata": {},
     "output_type": "execute_result"
    }
   ],
   "source": [
    "# посмотрим, есть ли полностью повторяющиеся строки\n",
    "person_df.duplicated().sum()"
   ]
  },
  {
   "cell_type": "code",
   "execution_count": 13,
   "metadata": {},
   "outputs": [
    {
     "data": {
      "text/html": [
       "<div>\n",
       "<style scoped>\n",
       "    .dataframe tbody tr th:only-of-type {\n",
       "        vertical-align: middle;\n",
       "    }\n",
       "\n",
       "    .dataframe tbody tr th {\n",
       "        vertical-align: top;\n",
       "    }\n",
       "\n",
       "    .dataframe thead th {\n",
       "        text-align: right;\n",
       "    }\n",
       "</style>\n",
       "<table border=\"1\" class=\"dataframe\">\n",
       "  <thead>\n",
       "    <tr style=\"text-align: right;\">\n",
       "      <th></th>\n",
       "      <th>sex</th>\n",
       "      <th>age</th>\n",
       "      <th>salary</th>\n",
       "      <th>family_members</th>\n",
       "      <th>insurance_payments</th>\n",
       "    </tr>\n",
       "  </thead>\n",
       "  <tbody>\n",
       "    <tr>\n",
       "      <th>2955</th>\n",
       "      <td>True</td>\n",
       "      <td>32.0</td>\n",
       "      <td>21600.0</td>\n",
       "      <td>0</td>\n",
       "      <td>0</td>\n",
       "    </tr>\n",
       "    <tr>\n",
       "      <th>2988</th>\n",
       "      <td>True</td>\n",
       "      <td>32.0</td>\n",
       "      <td>21600.0</td>\n",
       "      <td>0</td>\n",
       "      <td>0</td>\n",
       "    </tr>\n",
       "    <tr>\n",
       "      <th>361</th>\n",
       "      <td>False</td>\n",
       "      <td>50.0</td>\n",
       "      <td>24700.0</td>\n",
       "      <td>1</td>\n",
       "      <td>2</td>\n",
       "    </tr>\n",
       "    <tr>\n",
       "      <th>2869</th>\n",
       "      <td>False</td>\n",
       "      <td>50.0</td>\n",
       "      <td>24700.0</td>\n",
       "      <td>1</td>\n",
       "      <td>2</td>\n",
       "    </tr>\n",
       "    <tr>\n",
       "      <th>333</th>\n",
       "      <td>False</td>\n",
       "      <td>32.0</td>\n",
       "      <td>25600.0</td>\n",
       "      <td>1</td>\n",
       "      <td>0</td>\n",
       "    </tr>\n",
       "    <tr>\n",
       "      <th>4230</th>\n",
       "      <td>False</td>\n",
       "      <td>32.0</td>\n",
       "      <td>25600.0</td>\n",
       "      <td>1</td>\n",
       "      <td>0</td>\n",
       "    </tr>\n",
       "  </tbody>\n",
       "</table>\n",
       "</div>"
      ],
      "text/plain": [
       "        sex   age   salary  family_members  insurance_payments\n",
       "2955   True  32.0  21600.0               0                   0\n",
       "2988   True  32.0  21600.0               0                   0\n",
       "361   False  50.0  24700.0               1                   2\n",
       "2869  False  50.0  24700.0               1                   2\n",
       "333   False  32.0  25600.0               1                   0\n",
       "4230  False  32.0  25600.0               1                   0"
      ]
     },
     "execution_count": 13,
     "metadata": {},
     "output_type": "execute_result"
    }
   ],
   "source": [
    "person_df[person_df.duplicated(keep=False)].sort_values(['salary']).head(6)"
   ]
  },
  {
   "cell_type": "code",
   "execution_count": 14,
   "metadata": {},
   "outputs": [],
   "source": [
    "# удалим дубликаты\n",
    "person_df = person_df.drop_duplicates()\n",
    "person_df = person_df.reset_index(drop=True).round(1)"
   ]
  },
  {
   "cell_type": "code",
   "execution_count": 15,
   "metadata": {},
   "outputs": [
    {
     "data": {
      "image/png": "[encoded data removed]",
      "text/plain": [
       "<Figure size 1296x360 with 3 Axes>"
      ]
     },
     "metadata": {},
     "output_type": "display_data"
    }
   ],
   "source": [
    "# построим гистограммы для номинативных признаков и признаков с целыми числами\n",
    "fig = plt.figure(figsize=(18, 5))\n",
    "\n",
    "for i, col in enumerate(cols):\n",
    "    plt.subplot(1, 3, i + 1)\n",
    "    person_df[col].value_counts().plot(kind='bar')\n",
    "    \n",
    "    plt.title(col.replace('_', ' ').capitalize())\n",
    "    plt.xlabel(col.replace('_', ' ').capitalize())\n",
    "    plt.ylabel('Counts')\n",
    "    \n",
    "plt.show()"
   ]
  },
  {
   "cell_type": "code",
   "execution_count": 16,
   "metadata": {},
   "outputs": [
    {
     "data": {
      "image/png": "[encoded data removed]",
      "text/plain": [
       "<Figure size 1008x432 with 2 Axes>"
      ]
     },
     "metadata": {},
     "output_type": "display_data"
    }
   ],
   "source": [
    "# построим гистограммы и распределения плотностей вероятности для остальных признаков\n",
    "fig = plt.figure(figsize=(14, 6))\n",
    "\n",
    "for i, col in enumerate(['age', 'salary']):\n",
    "    plt.subplot(1, 2, i + 1)\n",
    "    sns.histplot(person_df, x=col, kde=True, bins=47)\n",
    "    plt.title(col.capitalize())\n",
    "    \n",
    "plt.show()"
   ]
  },
  {
   "cell_type": "code",
   "execution_count": 17,
   "metadata": {},
   "outputs": [
    {
     "data": {
      "image/png": "[encoded data removed]",
      "text/plain": [
       "<Figure size 432x288 with 1 Axes>"
      ]
     },
     "metadata": {},
     "output_type": "display_data"
    },
    {
     "data": {
      "image/png": "[encoded data removed]",
      "text/plain": [
       "<Figure size 432x288 with 1 Axes>"
      ]
     },
     "metadata": {},
     "output_type": "display_data"
    }
   ],
   "source": [
    "# построим QQ-график для определения \"нормальности\" распределений значений численных признаков\n",
    "for col in person_df.select_dtypes(['float']):\n",
    "    sm.qqplot(person_df[col], line='r');\n",
    "    plt.title(col)"
   ]
  },
  {
   "cell_type": "markdown",
   "metadata": {},
   "source": [
    "Из представленных графиков видно, что точки в случае `salary` почти идеально ложатся на прямую линию, что говорит о нормальности распределения значений данного признака. В случае `age` явно видно, что распределение не нормальное (что можно было заметить и без QQ-графика)."
   ]
  },
  {
   "cell_type": "code",
   "execution_count": 18,
   "metadata": {},
   "outputs": [
    {
     "data": {
      "text/html": [
       "<div>\n",
       "<style scoped>\n",
       "    .dataframe tbody tr th:only-of-type {\n",
       "        vertical-align: middle;\n",
       "    }\n",
       "\n",
       "    .dataframe tbody tr th {\n",
       "        vertical-align: top;\n",
       "    }\n",
       "\n",
       "    .dataframe thead th {\n",
       "        text-align: right;\n",
       "    }\n",
       "</style>\n",
       "<table border=\"1\" class=\"dataframe\">\n",
       "  <thead>\n",
       "    <tr style=\"text-align: right;\">\n",
       "      <th></th>\n",
       "      <th>age</th>\n",
       "      <th>salary</th>\n",
       "      <th>family_members</th>\n",
       "      <th>insurance_payments</th>\n",
       "    </tr>\n",
       "  </thead>\n",
       "  <tbody>\n",
       "    <tr>\n",
       "      <th>count</th>\n",
       "      <td>4847.000000</td>\n",
       "      <td>4847.000000</td>\n",
       "      <td>4847.000000</td>\n",
       "      <td>4847.000000</td>\n",
       "    </tr>\n",
       "    <tr>\n",
       "      <th>mean</th>\n",
       "      <td>31.023932</td>\n",
       "      <td>39895.811842</td>\n",
       "      <td>1.203425</td>\n",
       "      <td>0.152259</td>\n",
       "    </tr>\n",
       "    <tr>\n",
       "      <th>std</th>\n",
       "      <td>8.487995</td>\n",
       "      <td>9972.953985</td>\n",
       "      <td>1.098664</td>\n",
       "      <td>0.468934</td>\n",
       "    </tr>\n",
       "    <tr>\n",
       "      <th>min</th>\n",
       "      <td>18.000000</td>\n",
       "      <td>5300.000000</td>\n",
       "      <td>0.000000</td>\n",
       "      <td>0.000000</td>\n",
       "    </tr>\n",
       "    <tr>\n",
       "      <th>25%</th>\n",
       "      <td>24.000000</td>\n",
       "      <td>33200.000000</td>\n",
       "      <td>0.000000</td>\n",
       "      <td>0.000000</td>\n",
       "    </tr>\n",
       "    <tr>\n",
       "      <th>50%</th>\n",
       "      <td>30.000000</td>\n",
       "      <td>40200.000000</td>\n",
       "      <td>1.000000</td>\n",
       "      <td>0.000000</td>\n",
       "    </tr>\n",
       "    <tr>\n",
       "      <th>75%</th>\n",
       "      <td>37.000000</td>\n",
       "      <td>46600.000000</td>\n",
       "      <td>2.000000</td>\n",
       "      <td>0.000000</td>\n",
       "    </tr>\n",
       "    <tr>\n",
       "      <th>max</th>\n",
       "      <td>65.000000</td>\n",
       "      <td>79000.000000</td>\n",
       "      <td>6.000000</td>\n",
       "      <td>5.000000</td>\n",
       "    </tr>\n",
       "  </tbody>\n",
       "</table>\n",
       "</div>"
      ],
      "text/plain": [
       "               age        salary  family_members  insurance_payments\n",
       "count  4847.000000   4847.000000     4847.000000         4847.000000\n",
       "mean     31.023932  39895.811842        1.203425            0.152259\n",
       "std       8.487995   9972.953985        1.098664            0.468934\n",
       "min      18.000000   5300.000000        0.000000            0.000000\n",
       "25%      24.000000  33200.000000        0.000000            0.000000\n",
       "50%      30.000000  40200.000000        1.000000            0.000000\n",
       "75%      37.000000  46600.000000        2.000000            0.000000\n",
       "max      65.000000  79000.000000        6.000000            5.000000"
      ]
     },
     "execution_count": 18,
     "metadata": {},
     "output_type": "execute_result"
    }
   ],
   "source": [
    "# выведем описательную статистику для численных признаков\n",
    "person_df.describe()"
   ]
  },
  {
   "cell_type": "code",
   "execution_count": 19,
   "metadata": {},
   "outputs": [
    {
     "data": {
      "text/html": [
       "<style type=\"text/css\">\n",
       "#T_b2f77_row0_col0, #T_b2f77_row1_col1 {\n",
       "  background-color: #800026;\n",
       "  color: #f1f1f1;\n",
       "}\n",
       "#T_b2f77_row0_col1, #T_b2f77_row1_col0 {\n",
       "  background-color: #ffffcc;\n",
       "  color: #000000;\n",
       "}\n",
       "</style>\n",
       "<table id=\"T_b2f77\">\n",
       "  <thead>\n",
       "    <tr>\n",
       "      <th class=\"blank level0\" >&nbsp;</th>\n",
       "      <th id=\"T_b2f77_level0_col0\" class=\"col_heading level0 col0\" >age</th>\n",
       "      <th id=\"T_b2f77_level0_col1\" class=\"col_heading level0 col1\" >salary</th>\n",
       "    </tr>\n",
       "  </thead>\n",
       "  <tbody>\n",
       "    <tr>\n",
       "      <th id=\"T_b2f77_level0_row0\" class=\"row_heading level0 row0\" >age</th>\n",
       "      <td id=\"T_b2f77_row0_col0\" class=\"data row0 col0\" >1.000000</td>\n",
       "      <td id=\"T_b2f77_row0_col1\" class=\"data row0 col1\" >-0.017386</td>\n",
       "    </tr>\n",
       "    <tr>\n",
       "      <th id=\"T_b2f77_level0_row1\" class=\"row_heading level0 row1\" >salary</th>\n",
       "      <td id=\"T_b2f77_row1_col0\" class=\"data row1 col0\" >-0.017386</td>\n",
       "      <td id=\"T_b2f77_row1_col1\" class=\"data row1 col1\" >1.000000</td>\n",
       "    </tr>\n",
       "  </tbody>\n",
       "</table>\n"
      ],
      "text/plain": [
       "<pandas.io.formats.style.Styler at 0x7fdc1c6b5c70>"
      ]
     },
     "execution_count": 19,
     "metadata": {},
     "output_type": "execute_result"
    }
   ],
   "source": [
    "# посмотрим на корреляцию численных признаков используя коэффициент корреляции Пирсона\n",
    "person_df[['age', 'salary']].corr(numeric_only=True).style.background_gradient(cmap='YlOrRd')"
   ]
  },
  {
   "cell_type": "code",
   "execution_count": 20,
   "metadata": {},
   "outputs": [
    {
     "name": "stdout",
     "output_type": "stream",
     "text": [
      "interval columns not set, guessing: ['age', 'salary', 'family_members', 'insurance_payments']\n"
     ]
    },
    {
     "data": {
      "text/html": [
       "<style type=\"text/css\">\n",
       "#T_52244_row0_col0, #T_52244_row1_col1, #T_52244_row2_col2, #T_52244_row3_col3, #T_52244_row4_col4 {\n",
       "  background-color: #800026;\n",
       "  color: #f1f1f1;\n",
       "}\n",
       "#T_52244_row0_col1, #T_52244_row0_col2, #T_52244_row0_col3, #T_52244_row1_col0, #T_52244_row1_col3, #T_52244_row2_col0, #T_52244_row2_col3, #T_52244_row2_col4, #T_52244_row3_col0, #T_52244_row3_col1, #T_52244_row3_col2, #T_52244_row3_col4, #T_52244_row4_col2, #T_52244_row4_col3 {\n",
       "  background-color: #ffffcc;\n",
       "  color: #000000;\n",
       "}\n",
       "#T_52244_row0_col4, #T_52244_row4_col0 {\n",
       "  background-color: #fffac0;\n",
       "  color: #000000;\n",
       "}\n",
       "#T_52244_row1_col2, #T_52244_row2_col1 {\n",
       "  background-color: #fff6b6;\n",
       "  color: #000000;\n",
       "}\n",
       "#T_52244_row1_col4, #T_52244_row4_col1 {\n",
       "  background-color: #b70026;\n",
       "  color: #f1f1f1;\n",
       "}\n",
       "</style>\n",
       "<table id=\"T_52244\">\n",
       "  <thead>\n",
       "    <tr>\n",
       "      <th class=\"blank level0\" >&nbsp;</th>\n",
       "      <th id=\"T_52244_level0_col0\" class=\"col_heading level0 col0\" >sex</th>\n",
       "      <th id=\"T_52244_level0_col1\" class=\"col_heading level0 col1\" >age</th>\n",
       "      <th id=\"T_52244_level0_col2\" class=\"col_heading level0 col2\" >salary</th>\n",
       "      <th id=\"T_52244_level0_col3\" class=\"col_heading level0 col3\" >family_members</th>\n",
       "      <th id=\"T_52244_level0_col4\" class=\"col_heading level0 col4\" >insurance_payments</th>\n",
       "    </tr>\n",
       "  </thead>\n",
       "  <tbody>\n",
       "    <tr>\n",
       "      <th id=\"T_52244_level0_row0\" class=\"row_heading level0 row0\" >sex</th>\n",
       "      <td id=\"T_52244_row0_col0\" class=\"data row0 col0\" >1.000000</td>\n",
       "      <td id=\"T_52244_row0_col1\" class=\"data row0 col1\" >0.000000</td>\n",
       "      <td id=\"T_52244_row0_col2\" class=\"data row0 col2\" >0.000000</td>\n",
       "      <td id=\"T_52244_row0_col3\" class=\"data row0 col3\" >0.000000</td>\n",
       "      <td id=\"T_52244_row0_col4\" class=\"data row0 col4\" >0.035338</td>\n",
       "    </tr>\n",
       "    <tr>\n",
       "      <th id=\"T_52244_level0_row1\" class=\"row_heading level0 row1\" >age</th>\n",
       "      <td id=\"T_52244_row1_col0\" class=\"data row1 col0\" >0.000000</td>\n",
       "      <td id=\"T_52244_row1_col1\" class=\"data row1 col1\" >1.000000</td>\n",
       "      <td id=\"T_52244_row1_col2\" class=\"data row1 col2\" >0.065398</td>\n",
       "      <td id=\"T_52244_row1_col3\" class=\"data row1 col3\" >0.000000</td>\n",
       "      <td id=\"T_52244_row1_col4\" class=\"data row1 col4\" >0.884910</td>\n",
       "    </tr>\n",
       "    <tr>\n",
       "      <th id=\"T_52244_level0_row2\" class=\"row_heading level0 row2\" >salary</th>\n",
       "      <td id=\"T_52244_row2_col0\" class=\"data row2 col0\" >0.000000</td>\n",
       "      <td id=\"T_52244_row2_col1\" class=\"data row2 col1\" >0.065398</td>\n",
       "      <td id=\"T_52244_row2_col2\" class=\"data row2 col2\" >1.000000</td>\n",
       "      <td id=\"T_52244_row2_col3\" class=\"data row2 col3\" >0.000000</td>\n",
       "      <td id=\"T_52244_row2_col4\" class=\"data row2 col4\" >0.000000</td>\n",
       "    </tr>\n",
       "    <tr>\n",
       "      <th id=\"T_52244_level0_row3\" class=\"row_heading level0 row3\" >family_members</th>\n",
       "      <td id=\"T_52244_row3_col0\" class=\"data row3 col0\" >0.000000</td>\n",
       "      <td id=\"T_52244_row3_col1\" class=\"data row3 col1\" >0.000000</td>\n",
       "      <td id=\"T_52244_row3_col2\" class=\"data row3 col2\" >0.000000</td>\n",
       "      <td id=\"T_52244_row3_col3\" class=\"data row3 col3\" >1.000000</td>\n",
       "      <td id=\"T_52244_row3_col4\" class=\"data row3 col4\" >0.000000</td>\n",
       "    </tr>\n",
       "    <tr>\n",
       "      <th id=\"T_52244_level0_row4\" class=\"row_heading level0 row4\" >insurance_payments</th>\n",
       "      <td id=\"T_52244_row4_col0\" class=\"data row4 col0\" >0.035338</td>\n",
       "      <td id=\"T_52244_row4_col1\" class=\"data row4 col1\" >0.884910</td>\n",
       "      <td id=\"T_52244_row4_col2\" class=\"data row4 col2\" >0.000000</td>\n",
       "      <td id=\"T_52244_row4_col3\" class=\"data row4 col3\" >0.000000</td>\n",
       "      <td id=\"T_52244_row4_col4\" class=\"data row4 col4\" >1.000000</td>\n",
       "    </tr>\n",
       "  </tbody>\n",
       "</table>\n"
      ],
      "text/plain": [
       "<pandas.io.formats.style.Styler at 0x7fdc43f2ee80>"
      ]
     },
     "execution_count": 20,
     "metadata": {},
     "output_type": "execute_result"
    }
   ],
   "source": [
    "# посмотрим на корреляцию признаков используя коэффициент phi_k\n",
    "person_df.phik_matrix().style.background_gradient(cmap='YlOrRd')"
   ]
  },
  {
   "cell_type": "markdown",
   "metadata": {},
   "source": [
    "### Вывод\n",
    "\n",
    "- проведена загрузка и предобработка данных:\n",
    "    - удалены дубликаты\n",
    "    - данные приведены к соответствующим типам\n",
    "    - пропусков не обнаружено\n",
    "- число записей, относящихся к женщинам и мужчинам - одинаковое\n",
    "- распределения значений для колонки `salary` - нормальное, для `age` - ненормальное\n",
    "- признаки линейно независимы. Это важно, ведь иначе мы не смогли бы найти псевдообратную матрицу при обучении линейной регрессии.\n",
    "- наблюдается высокая корреляция между целевым признаком и возрастом клиента."
   ]
  },
  {
   "cell_type": "markdown",
   "metadata": {},
   "source": [
    "## Умножение матриц"
   ]
  },
  {
   "cell_type": "markdown",
   "metadata": {},
   "source": [
    "Обозначения:\n",
    "\n",
    "- $X$ — матрица признаков (нулевой столбец состоит из единиц)\n",
    "\n",
    "- $y$ — вектор целевого признака\n",
    "\n",
    "- $P$ — матрица, на которую умножаются признаки\n",
    "\n",
    "- $w$ — вектор весов линейной регрессии (нулевой элемент равен сдвигу)"
   ]
  },
  {
   "cell_type": "markdown",
   "metadata": {},
   "source": [
    "Предсказания:\n",
    "\n",
    "$$\n",
    "a = Xw\n",
    "$$\n",
    "\n",
    "Задача обучения:\n",
    "\n",
    "$$\n",
    "w = \\arg\\min_w MSE(Xw, y)\n",
    "$$\n",
    "\n",
    "Формула обучения:\n",
    "\n",
    "$$\n",
    "w = (X^T X)^{-1} X^T y\n",
    "$$"
   ]
  },
  {
   "cell_type": "markdown",
   "metadata": {},
   "source": [
    "**Вопрос:** Признаки умножают на обратимую матрицу. Изменится ли качество линейной регрессии?\n",
    "\n",
    "**Ответ:** Не изменится.\n",
    "\n",
    "**Обоснование:** Пусть $P$ - обратимая матрица. По условию: \n",
    "$$\\hat{a}=\\hat{X}\\hat{w}=XP\\hat{w}$$\n",
    "\n",
    "Запишем формулу обучения для модели с измененными признаками, принимая во внимание, что $(AB)^T=B^TA^T$:\n",
    "$$\\hat{w}=(\\hat{X}^T\\hat{X})^{-1}\\hat{X}^Ty=((XP)^T XP)^{-1}(XP)^Ty=(P^TX^TXP)^{-1}P^TX^Ty$$\n",
    "\n",
    "Важно не забывать, что обратная матрица вычисляется **только для квадратных** матриц. Принимая также во внимание, что $(AB)^{-1}=B^{-1}A^{-1}$, раскроем скобку:\n",
    "$$\\hat{w}=P^{-1}(X^TX)^{-1}(P^T)^{-1}P^TX^Ty$$\n",
    "\n",
    "Умножение матрицы на обратную ей матрицу дает единичную матрицу, т.е. $(P^T)^{-1}P^T=E$, тогда мы получим:\n",
    "$$\\hat{w}=P^{-1}(X^TX)^{-1}X^Ty=P^{-1}w$$\n",
    "\n",
    "Таким образом, мы нашли связь $\\hat{w}$ и $w$. Далее подставлем полученный результат в формулу для $\\hat{a}$:\n",
    "$$\\hat{a}=XP\\hat{w}=XPP^{-1}w=Xw=a$$\n",
    "Что и требовалось доказать."
   ]
  },
  {
   "cell_type": "markdown",
   "metadata": {},
   "source": [
    "## Алгоритм преобразования"
   ]
  },
  {
   "cell_type": "markdown",
   "metadata": {},
   "source": [
    "**Алгоритм**\n",
    "\n",
    "1. Генерация квадратной обратимой матрицы преобразований\n",
    "2. Проверка, что матрица действительно обратима\n",
    "3. Умножение матрицы признаков на матрицу преобразований\n",
    "4. Обучение модели на новых признаках"
   ]
  },
  {
   "cell_type": "markdown",
   "metadata": {},
   "source": [
    "**Обоснование**\n",
    "\n",
    "Пусть матрица признаков $X$ имеет размерность $m\\times n$. Для того, чтобы матрица $P$ была обратимой, она должна быть квадратной и невырожденной, т.е. её определитель не должен равняться нулю. Чтобы была возможность провести скалярное произведение $XP$, размерность матрицы $P$ должна быть $n\\times n$.\n",
    "\n",
    "К генерации обратимой матрицы можно подойти по-разному. Например:\n",
    "1. Генерируем случайную матрицу. Проверяем, что определитель не равен нулю. Если условие не удовлетворяется, повторяем до тех пор, пока определитель сгенерированной матрицы не будет равняться нулю.\n",
    "2. Воспользуемся свойством матрицы со строгим диагональным преобладнием - она невырождена. Строгое диагональное преобладание значит, что:\n",
    "$$\\forall i \\in \\{1,\\ ...\\ n\\}, |a_{ii}| > \\sum_{j \\ne i} a_{ji}$$\n",
    "Таким образом, можно сгенерировать случайную матрицу, затем сумму строк присвоить соответсвующим диагональным элементам. При таком алгоритме генерации диагональных элементов есть один случай, когда матрица будет не со строгим диагональным преобладанием: если в первоначально сгенерированной матрице на диагонали стоял ноль. Нужно иметь это ввиду.  "
   ]
  },
  {
   "cell_type": "markdown",
   "metadata": {},
   "source": [
    "## Проверка алгоритма"
   ]
  },
  {
   "cell_type": "markdown",
   "metadata": {},
   "source": [
    "Создадим функцию генерации матрицы преобразований $P$, включающих в себя два способа, описанных выше."
   ]
  },
  {
   "cell_type": "code",
   "execution_count": 21,
   "metadata": {},
   "outputs": [],
   "source": [
    "def generate_matrix(n: int, method: int = 2) -> np.ndarray:\n",
    "    \"\"\"\n",
    "    Генерация невырожденной квадратной матрицы n x n.\n",
    "    \n",
    "    Parameters:\n",
    "    ----------\n",
    "    n: int\n",
    "        размерность квадратной матрицы\n",
    "    method: int (default 2)\n",
    "        метод генерации невырожденной матрицы\n",
    "        \n",
    "    Returns:\n",
    "    -------\n",
    "    matrix (n x n)\n",
    "    \"\"\"\n",
    "    \n",
    "    if method == 1:\n",
    "        while True:\n",
    "            p = np.random.rand(n, n)\n",
    "            \n",
    "            if np.linalg.det(p) != 0:\n",
    "                return p\n",
    "            \n",
    "    elif method == 2:\n",
    "        p = np.random.rand(n, n)\n",
    "        diag = np.sum(np.abs(p), axis=1) + 1  # обеспечиваем строгое диагональное преобладание\n",
    "        np.fill_diagonal(p, diag)\n",
    "        return p"
   ]
  },
  {
   "cell_type": "code",
   "execution_count": 22,
   "metadata": {},
   "outputs": [],
   "source": [
    "# разделим данные на обучающую и тестовую выборки\n",
    "X = person_df.drop('insurance_payments', axis=1)\n",
    "y = person_df.insurance_payments\n",
    "\n",
    "X_train, X_test, y_train, y_test = train_test_split(X, y, test_size=0.25, shuffle=True, random_state=101)"
   ]
  },
  {
   "cell_type": "code",
   "execution_count": 23,
   "metadata": {},
   "outputs": [
    {
     "name": "stdout",
     "output_type": "stream",
     "text": [
      "Размерность train выборок\n",
      "X: (3635, 4)\n",
      "y: (3635,)\n",
      "Размерность test выборок\n",
      "X: (1212, 4)\n",
      "y: (1212,)\n"
     ]
    }
   ],
   "source": [
    "# проверим все размерности выборок\n",
    "for name, samples in {'train': [X_train, y_train], 'test': [X_test, y_test]}.items():\n",
    "    print(f'Размерность {name} выборок')\n",
    "    print('X:', samples[0].shape)\n",
    "    print('y:', samples[1].shape)"
   ]
  },
  {
   "cell_type": "code",
   "execution_count": 24,
   "metadata": {},
   "outputs": [
    {
     "data": {
      "text/html": [
       "<div>\n",
       "<style scoped>\n",
       "    .dataframe tbody tr th:only-of-type {\n",
       "        vertical-align: middle;\n",
       "    }\n",
       "\n",
       "    .dataframe tbody tr th {\n",
       "        vertical-align: top;\n",
       "    }\n",
       "\n",
       "    .dataframe thead th {\n",
       "        text-align: right;\n",
       "    }\n",
       "</style>\n",
       "<table border=\"1\" class=\"dataframe\">\n",
       "  <thead>\n",
       "    <tr style=\"text-align: right;\">\n",
       "      <th></th>\n",
       "      <th>R2</th>\n",
       "    </tr>\n",
       "  </thead>\n",
       "  <tbody>\n",
       "    <tr>\n",
       "      <th>base model</th>\n",
       "      <td>0.423926</td>\n",
       "    </tr>\n",
       "  </tbody>\n",
       "</table>\n",
       "</div>"
      ],
      "text/plain": [
       "                  R2\n",
       "base model  0.423926"
      ]
     },
     "execution_count": 24,
     "metadata": {},
     "output_type": "execute_result"
    }
   ],
   "source": [
    "# проведем обучение модели на неизмененных данных\n",
    "base_model = LinearRegression()\n",
    "base_model.fit(X_train, y_train)\n",
    "\n",
    "# выведем score на тестовой выборке\n",
    "res = pd.DataFrame({'R2': r2_score(y_test, base_model.predict(X_test))}, index=['base model'])\n",
    "res"
   ]
  },
  {
   "cell_type": "code",
   "execution_count": 25,
   "metadata": {},
   "outputs": [],
   "source": [
    "# сгенерируем матрицу преобразования по первому методу\n",
    "p_1 = generate_matrix(X.shape[1], method=1) \n",
    "\n",
    "# скалярно перемножим с признаками\n",
    "X_transformed_1 = pd.DataFrame(X.values @ p_1, columns=X.columns)\n",
    "\n",
    "# разобьем на train и test\n",
    "X_trnsf_train_1, X_trnsf_test_1, y_trnsf_train_1, y_trnsf_test_1 = train_test_split(X_transformed_1, y, test_size=0.25, \n",
    "                                                                                    shuffle=True, random_state=101)"
   ]
  },
  {
   "cell_type": "code",
   "execution_count": 26,
   "metadata": {},
   "outputs": [
    {
     "data": {
      "text/html": [
       "<div>\n",
       "<style scoped>\n",
       "    .dataframe tbody tr th:only-of-type {\n",
       "        vertical-align: middle;\n",
       "    }\n",
       "\n",
       "    .dataframe tbody tr th {\n",
       "        vertical-align: top;\n",
       "    }\n",
       "\n",
       "    .dataframe thead th {\n",
       "        text-align: right;\n",
       "    }\n",
       "</style>\n",
       "<table border=\"1\" class=\"dataframe\">\n",
       "  <thead>\n",
       "    <tr style=\"text-align: right;\">\n",
       "      <th></th>\n",
       "      <th>sex</th>\n",
       "      <th>age</th>\n",
       "      <th>salary</th>\n",
       "      <th>family_members</th>\n",
       "    </tr>\n",
       "  </thead>\n",
       "  <tbody>\n",
       "    <tr>\n",
       "      <th>312</th>\n",
       "      <td>23838.36875</td>\n",
       "      <td>13152.452332</td>\n",
       "      <td>12254.620829</td>\n",
       "      <td>1500.600391</td>\n",
       "    </tr>\n",
       "    <tr>\n",
       "      <th>2599</th>\n",
       "      <td>25296.501716</td>\n",
       "      <td>13957.79955</td>\n",
       "      <td>13007.714518</td>\n",
       "      <td>1594.819306</td>\n",
       "    </tr>\n",
       "    <tr>\n",
       "      <th>4049</th>\n",
       "      <td>22890.663997</td>\n",
       "      <td>12630.286084</td>\n",
       "      <td>11766.697071</td>\n",
       "      <td>1441.451395</td>\n",
       "    </tr>\n",
       "    <tr>\n",
       "      <th>4744</th>\n",
       "      <td>41916.568197</td>\n",
       "      <td>23126.251345</td>\n",
       "      <td>21526.135929</td>\n",
       "      <td>2629.030516</td>\n",
       "    </tr>\n",
       "    <tr>\n",
       "      <th>2437</th>\n",
       "      <td>36449.61281</td>\n",
       "      <td>20109.735872</td>\n",
       "      <td>18736.993218</td>\n",
       "      <td>2293.594062</td>\n",
       "    </tr>\n",
       "  </tbody>\n",
       "</table>\n",
       "</div>"
      ],
      "text/plain": [
       "               sex           age        salary family_members\n",
       "312    23838.36875  13152.452332  12254.620829    1500.600391\n",
       "2599  25296.501716   13957.79955  13007.714518    1594.819306\n",
       "4049  22890.663997  12630.286084  11766.697071    1441.451395\n",
       "4744  41916.568197  23126.251345  21526.135929    2629.030516\n",
       "2437   36449.61281  20109.735872  18736.993218    2293.594062"
      ]
     },
     "execution_count": 26,
     "metadata": {},
     "output_type": "execute_result"
    }
   ],
   "source": [
    "# взглянем как выглядят преобразованные данные\n",
    "X_trnsf_train_1.head()"
   ]
  },
  {
   "cell_type": "markdown",
   "metadata": {},
   "source": [
    "Идеально, теперь ничего непонятно, особенно если переименовать названия колонок в нечто бессмысленное."
   ]
  },
  {
   "cell_type": "code",
   "execution_count": 27,
   "metadata": {},
   "outputs": [],
   "source": [
    "# обучаем модель на новых данных\n",
    "model_1 = LinearRegression()\n",
    "model_1.fit(X_trnsf_train_1, y_trnsf_train_1)\n",
    "\n",
    "# добавляем результат в таблицу\n",
    "res.loc['model 1'] = r2_score(y_trnsf_test_1, model_1.predict(X_trnsf_test_1))"
   ]
  },
  {
   "cell_type": "code",
   "execution_count": 28,
   "metadata": {},
   "outputs": [],
   "source": [
    "# сгенерируем матрицу преобразования по второму методу\n",
    "p_2 = generate_matrix(X.shape[1], method=2) \n",
    "X_transformed_2 = pd.DataFrame(X.values @ p_2, columns=X.columns)\n",
    "\n",
    "X_trnsf_train_2, X_trnsf_test_2, y_trnsf_train_2, y_trnsf_test_2 = train_test_split(X_transformed_2, y, test_size=0.25, \n",
    "                                                                                    shuffle=True, random_state=101)"
   ]
  },
  {
   "cell_type": "code",
   "execution_count": 29,
   "metadata": {},
   "outputs": [],
   "source": [
    "# обучаем\n",
    "model_2 = LinearRegression()\n",
    "model_2.fit(X_trnsf_train_2, y_trnsf_train_2)\n",
    "\n",
    "res.loc['model 2'] = r2_score(y_trnsf_test_2, model_2.predict(X_trnsf_test_2))"
   ]
  },
  {
   "cell_type": "code",
   "execution_count": 30,
   "metadata": {},
   "outputs": [
    {
     "data": {
      "text/html": [
       "<style type=\"text/css\">\n",
       "</style>\n",
       "<table id=\"T_4e524\">\n",
       "  <thead>\n",
       "    <tr>\n",
       "      <th class=\"blank level0\" >&nbsp;</th>\n",
       "      <th id=\"T_4e524_level0_col0\" class=\"col_heading level0 col0\" >R2</th>\n",
       "    </tr>\n",
       "  </thead>\n",
       "  <tbody>\n",
       "    <tr>\n",
       "      <th id=\"T_4e524_level0_row0\" class=\"row_heading level0 row0\" >base model</th>\n",
       "      <td id=\"T_4e524_row0_col0\" class=\"data row0 col0\" >0.423925731692232</td>\n",
       "    </tr>\n",
       "    <tr>\n",
       "      <th id=\"T_4e524_level0_row1\" class=\"row_heading level0 row1\" >model 1</th>\n",
       "      <td id=\"T_4e524_row1_col0\" class=\"data row1 col0\" >0.423925731692308</td>\n",
       "    </tr>\n",
       "    <tr>\n",
       "      <th id=\"T_4e524_level0_row2\" class=\"row_heading level0 row2\" >model 2</th>\n",
       "      <td id=\"T_4e524_row2_col0\" class=\"data row2 col0\" >0.423925731692212</td>\n",
       "    </tr>\n",
       "  </tbody>\n",
       "</table>\n"
      ],
      "text/plain": [
       "<pandas.io.formats.style.Styler at 0x7fdc1c5e8bb0>"
      ]
     },
     "execution_count": 30,
     "metadata": {},
     "output_type": "execute_result"
    }
   ],
   "source": [
    "# выводим сводный результат\n",
    "res.style.format(precision=15)"
   ]
  },
  {
   "cell_type": "markdown",
   "metadata": {},
   "source": [
    "Различие только за 10м знаком, преобразование работает корректно."
   ]
  },
  {
   "cell_type": "code",
   "execution_count": 31,
   "metadata": {},
   "outputs": [],
   "source": [
    "# функция для восстановления исходных значений\n",
    "def restore(transformed_X, p_matrix):\n",
    "    restored = pd.DataFrame(\n",
    "                            transformed_X.values @ np.linalg.inv(p_matrix), \n",
    "                            columns=transformed_X.columns,\n",
    "                            dtype='float'  # если сразу привести к исходным типам данных могут возникнуть неточности\n",
    "                           )\n",
    "    restored = restored.abs().round()\n",
    "    return restored.astype(X.dtypes)"
   ]
  },
  {
   "cell_type": "code",
   "execution_count": 32,
   "metadata": {},
   "outputs": [],
   "source": [
    "# восстанавливаем исходные значения признаков\n",
    "restored_1 = restore(X_transformed_1, p_1)\n",
    "restored_2 = restore(X_transformed_2, p_2)"
   ]
  },
  {
   "cell_type": "code",
   "execution_count": 33,
   "metadata": {},
   "outputs": [
    {
     "name": "stdout",
     "output_type": "stream",
     "text": [
      "True\n",
      "True\n"
     ]
    }
   ],
   "source": [
    "# проверяем равенство значений в исходной и восстановленной таблицах\n",
    "print(X.equals(restored_1))\n",
    "print(X.equals(restored_2))"
   ]
  },
  {
   "cell_type": "markdown",
   "metadata": {},
   "source": [
    "Данные восстановлены корректно."
   ]
  },
  {
   "cell_type": "markdown",
   "metadata": {},
   "source": [
    "## Вывод\n",
    "\n",
    "- В процессе работы с данными они были загружены, предобработаны. Были выявлены основные закономерности.\n",
    "- Мы доказали, что умножение исходных признаков на обратимую матрицу не изменяет качество модели (как аналитически, так и практически).\n",
    "- Мы предложили и реализвали алгоритм преобразования.\n",
    "\n",
    "Таким образом мы показали, что применяя простое скалярное умножение матрицы признаков на обратимую матрицу можно зашифровать данные, при этом их также можно легко восстановить."
   ]
  }
 ],
 "metadata": {
  "ExecuteTimeLog": [
   {
    "duration": 2263,
    "start_time": "2023-05-25T08:37:49.474Z"
   },
   {
    "duration": 3,
    "start_time": "2023-05-25T08:37:51.739Z"
   },
   {
    "duration": 19,
    "start_time": "2023-05-25T08:37:51.744Z"
   },
   {
    "duration": 89,
    "start_time": "2023-05-25T08:37:51.764Z"
   },
   {
    "duration": 3,
    "start_time": "2023-05-25T08:37:51.855Z"
   },
   {
    "duration": 26,
    "start_time": "2023-05-25T08:37:51.859Z"
   },
   {
    "duration": 12,
    "start_time": "2023-05-25T08:37:51.886Z"
   },
   {
    "duration": 6,
    "start_time": "2023-05-25T08:37:51.899Z"
   },
   {
    "duration": 27,
    "start_time": "2023-05-25T08:37:51.907Z"
   },
   {
    "duration": 10,
    "start_time": "2023-05-25T08:37:51.936Z"
   },
   {
    "duration": 16,
    "start_time": "2023-05-25T08:37:51.947Z"
   },
   {
    "duration": 6,
    "start_time": "2023-05-25T08:37:51.964Z"
   },
   {
    "duration": 324,
    "start_time": "2023-05-25T08:37:51.972Z"
   },
   {
    "duration": 463,
    "start_time": "2023-05-25T08:37:52.299Z"
   },
   {
    "duration": 562,
    "start_time": "2023-05-25T08:37:52.763Z"
   },
   {
    "duration": 16,
    "start_time": "2023-05-25T08:37:53.327Z"
   },
   {
    "duration": 144,
    "start_time": "2023-05-25T08:37:53.345Z"
   },
   {
    "duration": 0,
    "start_time": "2023-05-25T08:37:53.491Z"
   },
   {
    "duration": 0,
    "start_time": "2023-05-25T08:37:53.492Z"
   },
   {
    "duration": 0,
    "start_time": "2023-05-25T08:37:53.493Z"
   },
   {
    "duration": 0,
    "start_time": "2023-05-25T08:37:53.494Z"
   },
   {
    "duration": 0,
    "start_time": "2023-05-25T08:37:53.495Z"
   },
   {
    "duration": 0,
    "start_time": "2023-05-25T08:37:53.496Z"
   },
   {
    "duration": 0,
    "start_time": "2023-05-25T08:37:53.497Z"
   },
   {
    "duration": 0,
    "start_time": "2023-05-25T08:37:53.497Z"
   },
   {
    "duration": 0,
    "start_time": "2023-05-25T08:37:53.498Z"
   },
   {
    "duration": 0,
    "start_time": "2023-05-25T08:37:53.499Z"
   },
   {
    "duration": 1481,
    "start_time": "2023-05-25T08:45:55.560Z"
   },
   {
    "duration": 8529,
    "start_time": "2023-05-25T08:46:12.219Z"
   },
   {
    "duration": 1920,
    "start_time": "2023-05-25T08:46:36.617Z"
   },
   {
    "duration": 1794,
    "start_time": "2023-05-25T08:46:38.539Z"
   },
   {
    "duration": 3,
    "start_time": "2023-05-25T08:46:40.334Z"
   },
   {
    "duration": 25,
    "start_time": "2023-05-25T08:46:40.339Z"
   },
   {
    "duration": 88,
    "start_time": "2023-05-25T08:46:40.366Z"
   },
   {
    "duration": 4,
    "start_time": "2023-05-25T08:46:40.456Z"
   },
   {
    "duration": 12,
    "start_time": "2023-05-25T08:46:40.461Z"
   },
   {
    "duration": 8,
    "start_time": "2023-05-25T08:46:40.475Z"
   },
   {
    "duration": 11,
    "start_time": "2023-05-25T08:46:40.484Z"
   },
   {
    "duration": 7,
    "start_time": "2023-05-25T08:46:40.497Z"
   },
   {
    "duration": 12,
    "start_time": "2023-05-25T08:46:40.506Z"
   },
   {
    "duration": 10,
    "start_time": "2023-05-25T08:46:40.520Z"
   },
   {
    "duration": 15,
    "start_time": "2023-05-25T08:46:40.531Z"
   },
   {
    "duration": 301,
    "start_time": "2023-05-25T08:46:40.548Z"
   },
   {
    "duration": 393,
    "start_time": "2023-05-25T08:46:40.850Z"
   },
   {
    "duration": 484,
    "start_time": "2023-05-25T08:46:41.244Z"
   },
   {
    "duration": 15,
    "start_time": "2023-05-25T08:46:41.729Z"
   },
   {
    "duration": 70,
    "start_time": "2023-05-25T08:46:41.745Z"
   },
   {
    "duration": 5,
    "start_time": "2023-05-25T08:46:41.816Z"
   },
   {
    "duration": 12,
    "start_time": "2023-05-25T08:46:41.822Z"
   },
   {
    "duration": 10,
    "start_time": "2023-05-25T08:46:41.835Z"
   },
   {
    "duration": 13,
    "start_time": "2023-05-25T08:46:41.846Z"
   },
   {
    "duration": 9,
    "start_time": "2023-05-25T08:46:41.860Z"
   },
   {
    "duration": 7,
    "start_time": "2023-05-25T08:46:41.885Z"
   },
   {
    "duration": 9,
    "start_time": "2023-05-25T08:46:41.893Z"
   },
   {
    "duration": 13,
    "start_time": "2023-05-25T08:46:41.904Z"
   },
   {
    "duration": 13,
    "start_time": "2023-05-25T08:46:41.918Z"
   },
   {
    "duration": 5,
    "start_time": "2023-05-25T08:46:41.933Z"
   },
   {
    "duration": 12183,
    "start_time": "2023-05-25T09:30:19.417Z"
   },
   {
    "duration": 2576,
    "start_time": "2023-05-25T09:30:31.603Z"
   },
   {
    "duration": 4,
    "start_time": "2023-05-25T09:30:34.182Z"
   },
   {
    "duration": 19,
    "start_time": "2023-05-25T09:30:34.189Z"
   },
   {
    "duration": 115,
    "start_time": "2023-05-25T09:30:34.210Z"
   },
   {
    "duration": 3,
    "start_time": "2023-05-25T09:30:34.327Z"
   },
   {
    "duration": 28,
    "start_time": "2023-05-25T09:30:34.332Z"
   },
   {
    "duration": 6,
    "start_time": "2023-05-25T09:30:34.361Z"
   },
   {
    "duration": 6,
    "start_time": "2023-05-25T09:30:34.368Z"
   },
   {
    "duration": 13,
    "start_time": "2023-05-25T09:30:34.377Z"
   },
   {
    "duration": 6,
    "start_time": "2023-05-25T09:30:34.392Z"
   },
   {
    "duration": 31,
    "start_time": "2023-05-25T09:30:34.399Z"
   },
   {
    "duration": 22,
    "start_time": "2023-05-25T09:30:34.432Z"
   },
   {
    "duration": 375,
    "start_time": "2023-05-25T09:30:34.456Z"
   },
   {
    "duration": 506,
    "start_time": "2023-05-25T09:30:34.833Z"
   },
   {
    "duration": 724,
    "start_time": "2023-05-25T09:30:35.340Z"
   },
   {
    "duration": 21,
    "start_time": "2023-05-25T09:30:36.065Z"
   },
   {
    "duration": 78,
    "start_time": "2023-05-25T09:30:36.087Z"
   },
   {
    "duration": 6,
    "start_time": "2023-05-25T09:30:36.167Z"
   },
   {
    "duration": 9,
    "start_time": "2023-05-25T09:30:36.175Z"
   },
   {
    "duration": 31,
    "start_time": "2023-05-25T09:30:36.186Z"
   },
   {
    "duration": 38,
    "start_time": "2023-05-25T09:30:36.218Z"
   },
   {
    "duration": 100,
    "start_time": "2023-05-25T09:30:36.258Z"
   },
   {
    "duration": 7,
    "start_time": "2023-05-25T09:30:36.360Z"
   },
   {
    "duration": 87,
    "start_time": "2023-05-25T09:30:36.369Z"
   },
   {
    "duration": 11,
    "start_time": "2023-05-25T09:30:36.458Z"
   },
   {
    "duration": 23,
    "start_time": "2023-05-25T09:30:36.471Z"
   },
   {
    "duration": 8,
    "start_time": "2023-05-25T09:30:36.498Z"
   },
   {
    "duration": 2037,
    "start_time": "2023-05-25T09:34:39.635Z"
   },
   {
    "duration": 1800,
    "start_time": "2023-05-25T09:34:41.674Z"
   },
   {
    "duration": 4,
    "start_time": "2023-05-25T09:34:43.475Z"
   },
   {
    "duration": 14,
    "start_time": "2023-05-25T09:34:43.481Z"
   },
   {
    "duration": 43,
    "start_time": "2023-05-25T09:34:43.497Z"
   },
   {
    "duration": 4,
    "start_time": "2023-05-25T09:34:43.541Z"
   },
   {
    "duration": 13,
    "start_time": "2023-05-25T09:34:43.547Z"
   },
   {
    "duration": 16,
    "start_time": "2023-05-25T09:34:43.562Z"
   },
   {
    "duration": 6,
    "start_time": "2023-05-25T09:34:43.580Z"
   },
   {
    "duration": 6,
    "start_time": "2023-05-25T09:34:43.588Z"
   },
   {
    "duration": 7,
    "start_time": "2023-05-25T09:34:43.596Z"
   },
   {
    "duration": 16,
    "start_time": "2023-05-25T09:34:43.606Z"
   },
   {
    "duration": 26,
    "start_time": "2023-05-25T09:34:43.624Z"
   },
   {
    "duration": 381,
    "start_time": "2023-05-25T09:34:43.652Z"
   },
   {
    "duration": 628,
    "start_time": "2023-05-25T09:34:44.036Z"
   },
   {
    "duration": 617,
    "start_time": "2023-05-25T09:34:44.666Z"
   },
   {
    "duration": 19,
    "start_time": "2023-05-25T09:34:45.284Z"
   },
   {
    "duration": 82,
    "start_time": "2023-05-25T09:34:45.304Z"
   },
   {
    "duration": 5,
    "start_time": "2023-05-25T09:34:45.388Z"
   },
   {
    "duration": 7,
    "start_time": "2023-05-25T09:34:45.394Z"
   },
   {
    "duration": 7,
    "start_time": "2023-05-25T09:34:45.403Z"
   },
   {
    "duration": 43,
    "start_time": "2023-05-25T09:34:45.412Z"
   },
   {
    "duration": 154,
    "start_time": "2023-05-25T09:34:45.457Z"
   },
   {
    "duration": 0,
    "start_time": "2023-05-25T09:34:45.613Z"
   },
   {
    "duration": 0,
    "start_time": "2023-05-25T09:34:45.614Z"
   },
   {
    "duration": 0,
    "start_time": "2023-05-25T09:34:45.616Z"
   },
   {
    "duration": 0,
    "start_time": "2023-05-25T09:34:45.617Z"
   },
   {
    "duration": 0,
    "start_time": "2023-05-25T09:34:45.618Z"
   },
   {
    "duration": 10,
    "start_time": "2023-05-25T09:34:55.914Z"
   },
   {
    "duration": 8,
    "start_time": "2023-05-25T09:34:57.460Z"
   },
   {
    "duration": 9,
    "start_time": "2023-05-25T09:34:58.832Z"
   },
   {
    "duration": 10,
    "start_time": "2023-05-25T09:35:03.208Z"
   },
   {
    "duration": 10,
    "start_time": "2023-05-25T09:35:03.714Z"
   },
   {
    "duration": 6,
    "start_time": "2023-05-25T09:35:04.306Z"
   },
   {
    "duration": 6,
    "start_time": "2023-05-25T09:37:31.523Z"
   },
   {
    "duration": 16,
    "start_time": "2023-05-25T09:38:09.213Z"
   },
   {
    "duration": 18,
    "start_time": "2023-05-25T09:38:14.778Z"
   },
   {
    "duration": 7,
    "start_time": "2023-05-25T09:39:27.149Z"
   },
   {
    "duration": 20,
    "start_time": "2023-05-25T09:39:32.462Z"
   },
   {
    "duration": 22,
    "start_time": "2023-05-25T09:40:31.614Z"
   },
   {
    "duration": 48,
    "start_time": "2023-05-25T09:40:40.504Z"
   },
   {
    "duration": 5,
    "start_time": "2023-05-25T09:41:34.181Z"
   },
   {
    "duration": 11,
    "start_time": "2023-05-25T09:41:45.889Z"
   },
   {
    "duration": 13,
    "start_time": "2023-05-25T09:42:03.160Z"
   },
   {
    "duration": 21,
    "start_time": "2023-05-25T09:42:24.975Z"
   },
   {
    "duration": 20,
    "start_time": "2023-05-25T09:42:33.881Z"
   },
   {
    "duration": 18,
    "start_time": "2023-05-25T09:42:52.997Z"
   },
   {
    "duration": 5,
    "start_time": "2023-05-25T09:43:04.911Z"
   },
   {
    "duration": 17,
    "start_time": "2023-05-25T09:43:13.778Z"
   },
   {
    "duration": 5,
    "start_time": "2023-05-25T09:43:17.293Z"
   },
   {
    "duration": 12,
    "start_time": "2023-05-25T09:44:07.171Z"
   },
   {
    "duration": 12,
    "start_time": "2023-05-25T09:44:13.178Z"
   },
   {
    "duration": 7,
    "start_time": "2023-05-25T09:44:18.562Z"
   },
   {
    "duration": 11,
    "start_time": "2023-05-25T09:44:58.072Z"
   },
   {
    "duration": 10,
    "start_time": "2023-05-25T09:45:11.219Z"
   },
   {
    "duration": 12,
    "start_time": "2023-05-25T09:45:30.640Z"
   },
   {
    "duration": 15,
    "start_time": "2023-05-25T09:45:42.508Z"
   },
   {
    "duration": 12,
    "start_time": "2023-05-25T09:46:16.843Z"
   },
   {
    "duration": 14,
    "start_time": "2023-05-25T09:46:20.768Z"
   },
   {
    "duration": 19,
    "start_time": "2023-05-25T09:46:25.112Z"
   },
   {
    "duration": 11,
    "start_time": "2023-05-25T09:46:35.467Z"
   },
   {
    "duration": 12,
    "start_time": "2023-05-25T09:46:43.576Z"
   },
   {
    "duration": 12,
    "start_time": "2023-05-25T09:47:22.780Z"
   },
   {
    "duration": 12,
    "start_time": "2023-05-25T09:47:28.860Z"
   },
   {
    "duration": 12,
    "start_time": "2023-05-25T09:47:33.432Z"
   },
   {
    "duration": 11,
    "start_time": "2023-05-25T09:47:50.724Z"
   },
   {
    "duration": 5,
    "start_time": "2023-05-25T09:48:15.551Z"
   },
   {
    "duration": 11,
    "start_time": "2023-05-25T09:49:18.514Z"
   },
   {
    "duration": 4,
    "start_time": "2023-05-25T09:50:16.103Z"
   },
   {
    "duration": 11,
    "start_time": "2023-05-25T09:50:19.896Z"
   },
   {
    "duration": 19,
    "start_time": "2023-05-25T09:51:32.912Z"
   },
   {
    "duration": 5,
    "start_time": "2023-05-25T09:51:37.617Z"
   },
   {
    "duration": 5,
    "start_time": "2023-05-25T09:51:40.914Z"
   },
   {
    "duration": 9,
    "start_time": "2023-05-25T09:51:41.672Z"
   },
   {
    "duration": 10,
    "start_time": "2023-05-25T09:51:49.622Z"
   },
   {
    "duration": 11,
    "start_time": "2023-05-25T09:52:03.951Z"
   },
   {
    "duration": 10,
    "start_time": "2023-05-25T09:52:14.710Z"
   },
   {
    "duration": 12,
    "start_time": "2023-05-25T09:52:19.182Z"
   },
   {
    "duration": 5,
    "start_time": "2023-05-25T09:53:38.645Z"
   },
   {
    "duration": 22,
    "start_time": "2023-05-25T09:53:48.910Z"
   },
   {
    "duration": 4,
    "start_time": "2023-05-25T09:54:00.917Z"
   },
   {
    "duration": 8,
    "start_time": "2023-05-25T09:54:01.301Z"
   },
   {
    "duration": 10,
    "start_time": "2023-05-25T09:54:17.866Z"
   },
   {
    "duration": 13,
    "start_time": "2023-05-25T09:54:31.108Z"
   },
   {
    "duration": 10,
    "start_time": "2023-05-25T09:54:55.408Z"
   },
   {
    "duration": 5,
    "start_time": "2023-05-25T09:55:40.259Z"
   },
   {
    "duration": 2169,
    "start_time": "2023-05-25T09:55:46.471Z"
   },
   {
    "duration": 1844,
    "start_time": "2023-05-25T09:55:48.642Z"
   },
   {
    "duration": 3,
    "start_time": "2023-05-25T09:55:50.488Z"
   },
   {
    "duration": 18,
    "start_time": "2023-05-25T09:55:50.493Z"
   },
   {
    "duration": 62,
    "start_time": "2023-05-25T09:55:50.513Z"
   },
   {
    "duration": 4,
    "start_time": "2023-05-25T09:55:50.577Z"
   },
   {
    "duration": 18,
    "start_time": "2023-05-25T09:55:50.582Z"
   },
   {
    "duration": 25,
    "start_time": "2023-05-25T09:55:50.602Z"
   },
   {
    "duration": 40,
    "start_time": "2023-05-25T09:55:50.628Z"
   },
   {
    "duration": 28,
    "start_time": "2023-05-25T09:55:50.671Z"
   },
   {
    "duration": 15,
    "start_time": "2023-05-25T09:55:50.701Z"
   },
   {
    "duration": 12,
    "start_time": "2023-05-25T09:55:50.718Z"
   },
   {
    "duration": 9,
    "start_time": "2023-05-25T09:55:50.731Z"
   },
   {
    "duration": 393,
    "start_time": "2023-05-25T09:55:50.741Z"
   },
   {
    "duration": 516,
    "start_time": "2023-05-25T09:55:51.136Z"
   },
   {
    "duration": 660,
    "start_time": "2023-05-25T09:55:51.654Z"
   },
   {
    "duration": 18,
    "start_time": "2023-05-25T09:55:52.315Z"
   },
   {
    "duration": 84,
    "start_time": "2023-05-25T09:55:52.335Z"
   },
   {
    "duration": 5,
    "start_time": "2023-05-25T09:55:52.421Z"
   },
   {
    "duration": 12,
    "start_time": "2023-05-25T09:55:52.428Z"
   },
   {
    "duration": 9,
    "start_time": "2023-05-25T09:55:52.442Z"
   },
   {
    "duration": 17,
    "start_time": "2023-05-25T09:55:52.453Z"
   },
   {
    "duration": 10,
    "start_time": "2023-05-25T09:55:52.472Z"
   },
   {
    "duration": 23,
    "start_time": "2023-05-25T09:55:52.484Z"
   },
   {
    "duration": 36,
    "start_time": "2023-05-25T09:55:52.509Z"
   },
   {
    "duration": 12,
    "start_time": "2023-05-25T09:55:52.547Z"
   },
   {
    "duration": 10,
    "start_time": "2023-05-25T09:55:52.561Z"
   },
   {
    "duration": 28,
    "start_time": "2023-05-25T09:55:52.574Z"
   },
   {
    "duration": 48,
    "start_time": "2023-05-25T09:55:52.604Z"
   },
   {
    "duration": 12,
    "start_time": "2023-05-25T09:55:52.653Z"
   },
   {
    "duration": 89,
    "start_time": "2023-05-25T09:55:52.667Z"
   },
   {
    "duration": 6,
    "start_time": "2023-05-25T09:55:52.757Z"
   },
   {
    "duration": 11,
    "start_time": "2023-05-25T09:55:52.765Z"
   },
   {
    "duration": 12,
    "start_time": "2023-05-25T09:56:04.395Z"
   },
   {
    "duration": 5,
    "start_time": "2023-05-25T09:56:09.528Z"
   },
   {
    "duration": 8,
    "start_time": "2023-05-25T09:56:12.706Z"
   },
   {
    "duration": 10,
    "start_time": "2023-05-25T09:56:31.558Z"
   },
   {
    "duration": 5,
    "start_time": "2023-05-25T09:56:53.967Z"
   },
   {
    "duration": 10,
    "start_time": "2023-05-25T09:57:10.508Z"
   },
   {
    "duration": 6,
    "start_time": "2023-05-25T09:58:25.093Z"
   },
   {
    "duration": 147,
    "start_time": "2023-05-25T09:58:40.751Z"
   },
   {
    "duration": 6,
    "start_time": "2023-05-25T09:58:44.544Z"
   },
   {
    "duration": 37,
    "start_time": "2023-05-25T09:59:16.813Z"
   },
   {
    "duration": 5,
    "start_time": "2023-05-25T09:59:23.044Z"
   },
   {
    "duration": 12,
    "start_time": "2023-05-25T09:59:31.620Z"
   },
   {
    "duration": 20,
    "start_time": "2023-05-25T10:00:00.346Z"
   },
   {
    "duration": 17,
    "start_time": "2023-05-25T10:00:25.133Z"
   },
   {
    "duration": 24,
    "start_time": "2023-05-25T10:01:06.595Z"
   },
   {
    "duration": 15,
    "start_time": "2023-05-25T10:01:12.602Z"
   },
   {
    "duration": 11,
    "start_time": "2023-05-25T10:01:52.663Z"
   },
   {
    "duration": 12,
    "start_time": "2023-05-25T10:01:59.553Z"
   },
   {
    "duration": 10,
    "start_time": "2023-05-25T10:02:08.417Z"
   },
   {
    "duration": 11,
    "start_time": "2023-05-25T10:02:28.253Z"
   },
   {
    "duration": 19,
    "start_time": "2023-05-25T10:02:39.330Z"
   },
   {
    "duration": 22,
    "start_time": "2023-05-25T10:02:46.883Z"
   },
   {
    "duration": 16,
    "start_time": "2023-05-25T10:02:49.671Z"
   },
   {
    "duration": 15,
    "start_time": "2023-05-25T10:02:53.672Z"
   },
   {
    "duration": 19,
    "start_time": "2023-05-25T10:02:58.410Z"
   },
   {
    "duration": 21,
    "start_time": "2023-05-25T10:03:24.737Z"
   },
   {
    "duration": 19,
    "start_time": "2023-05-25T10:03:45.401Z"
   },
   {
    "duration": 65,
    "start_time": "2023-05-25T10:03:50.891Z"
   },
   {
    "duration": 82,
    "start_time": "2023-05-25T10:03:57.877Z"
   },
   {
    "duration": 12,
    "start_time": "2023-05-25T10:07:08.764Z"
   },
   {
    "duration": 65,
    "start_time": "2023-05-25T10:07:16.685Z"
   },
   {
    "duration": 17,
    "start_time": "2023-05-25T10:07:50.752Z"
   },
   {
    "duration": 9,
    "start_time": "2023-05-25T10:08:15.423Z"
   },
   {
    "duration": 12,
    "start_time": "2023-05-25T10:08:50.176Z"
   },
   {
    "duration": 21,
    "start_time": "2023-05-25T10:09:08.610Z"
   },
   {
    "duration": 22,
    "start_time": "2023-05-25T10:09:12.855Z"
   },
   {
    "duration": 16,
    "start_time": "2023-05-25T10:09:30.396Z"
   },
   {
    "duration": 5,
    "start_time": "2023-05-25T10:09:39.829Z"
   },
   {
    "duration": 4,
    "start_time": "2023-05-25T10:09:45.350Z"
   },
   {
    "duration": 13,
    "start_time": "2023-05-25T10:10:28.976Z"
   },
   {
    "duration": 21,
    "start_time": "2023-05-25T10:10:34.412Z"
   },
   {
    "duration": 10,
    "start_time": "2023-05-25T10:10:56.784Z"
   },
   {
    "duration": 11,
    "start_time": "2023-05-25T10:11:02.739Z"
   },
   {
    "duration": 12,
    "start_time": "2023-05-25T10:11:16.039Z"
   },
   {
    "duration": 15,
    "start_time": "2023-05-25T10:11:24.197Z"
   },
   {
    "duration": 9,
    "start_time": "2023-05-25T10:11:34.689Z"
   },
   {
    "duration": 9,
    "start_time": "2023-05-25T10:11:38.720Z"
   },
   {
    "duration": 10,
    "start_time": "2023-05-25T10:11:41.520Z"
   },
   {
    "duration": 20,
    "start_time": "2023-05-25T10:11:55.351Z"
   },
   {
    "duration": 12,
    "start_time": "2023-05-25T10:12:28.936Z"
   },
   {
    "duration": 204,
    "start_time": "2023-05-25T10:12:37.858Z"
   },
   {
    "duration": 16,
    "start_time": "2023-05-25T10:13:25.757Z"
   },
   {
    "duration": 18,
    "start_time": "2023-05-25T10:13:53.720Z"
   },
   {
    "duration": 21,
    "start_time": "2023-05-25T10:16:10.469Z"
   },
   {
    "duration": 13,
    "start_time": "2023-05-25T10:16:33.179Z"
   },
   {
    "duration": 14,
    "start_time": "2023-05-25T10:16:39.842Z"
   },
   {
    "duration": 56,
    "start_time": "2023-05-25T10:16:48.128Z"
   },
   {
    "duration": 15,
    "start_time": "2023-05-25T10:16:52.171Z"
   },
   {
    "duration": 15,
    "start_time": "2023-05-25T10:16:58.541Z"
   },
   {
    "duration": 13,
    "start_time": "2023-05-25T10:17:21.182Z"
   },
   {
    "duration": 11,
    "start_time": "2023-05-25T10:17:27.115Z"
   },
   {
    "duration": 12,
    "start_time": "2023-05-25T10:17:55.787Z"
   },
   {
    "duration": 5,
    "start_time": "2023-05-25T10:18:00.081Z"
   },
   {
    "duration": 4,
    "start_time": "2023-05-25T10:18:08.995Z"
   },
   {
    "duration": 9,
    "start_time": "2023-05-25T10:18:45.815Z"
   },
   {
    "duration": 13,
    "start_time": "2023-05-25T10:18:53.601Z"
   },
   {
    "duration": 9,
    "start_time": "2023-05-25T10:19:00.199Z"
   },
   {
    "duration": 11,
    "start_time": "2023-05-25T10:19:06.440Z"
   },
   {
    "duration": 3,
    "start_time": "2023-05-25T10:22:01.474Z"
   },
   {
    "duration": 18,
    "start_time": "2023-05-25T10:22:28.127Z"
   },
   {
    "duration": 3,
    "start_time": "2023-05-25T10:22:57.437Z"
   },
   {
    "duration": 17,
    "start_time": "2023-05-25T10:22:58.335Z"
   },
   {
    "duration": 11,
    "start_time": "2023-05-25T10:23:09.503Z"
   },
   {
    "duration": 10,
    "start_time": "2023-05-25T10:23:11.254Z"
   },
   {
    "duration": 7,
    "start_time": "2023-05-25T10:23:18.197Z"
   },
   {
    "duration": 11,
    "start_time": "2023-05-25T10:23:42.252Z"
   },
   {
    "duration": 9,
    "start_time": "2023-05-25T10:23:47.579Z"
   },
   {
    "duration": 8,
    "start_time": "2023-05-25T10:23:56.297Z"
   },
   {
    "duration": 14,
    "start_time": "2023-05-25T10:24:07.398Z"
   },
   {
    "duration": 4,
    "start_time": "2023-05-25T10:24:25.498Z"
   },
   {
    "duration": 12,
    "start_time": "2023-05-25T10:24:28.518Z"
   },
   {
    "duration": 12,
    "start_time": "2023-05-25T10:24:28.880Z"
   },
   {
    "duration": 11,
    "start_time": "2023-05-25T10:24:31.803Z"
   },
   {
    "duration": 15,
    "start_time": "2023-05-25T10:25:11.265Z"
   },
   {
    "duration": 15,
    "start_time": "2023-05-25T10:25:19.963Z"
   },
   {
    "duration": 585,
    "start_time": "2023-05-25T10:25:24.768Z"
   },
   {
    "duration": 15,
    "start_time": "2023-05-25T10:25:32.719Z"
   },
   {
    "duration": 17,
    "start_time": "2023-05-25T10:25:48.489Z"
   },
   {
    "duration": 15,
    "start_time": "2023-05-25T10:25:58.469Z"
   },
   {
    "duration": 12,
    "start_time": "2023-05-25T10:26:40.004Z"
   },
   {
    "duration": 9,
    "start_time": "2023-05-25T10:26:43.642Z"
   },
   {
    "duration": 9,
    "start_time": "2023-05-25T10:26:49.713Z"
   },
   {
    "duration": 17,
    "start_time": "2023-05-25T10:26:56.450Z"
   },
   {
    "duration": 14,
    "start_time": "2023-05-25T10:27:05.162Z"
   },
   {
    "duration": 13,
    "start_time": "2023-05-25T10:27:11.292Z"
   },
   {
    "duration": 12,
    "start_time": "2023-05-25T10:27:35.129Z"
   },
   {
    "duration": 15,
    "start_time": "2023-05-25T10:27:42.197Z"
   },
   {
    "duration": 5,
    "start_time": "2023-05-25T10:28:12.543Z"
   },
   {
    "duration": 767,
    "start_time": "2023-05-25T10:28:46.988Z"
   },
   {
    "duration": 9,
    "start_time": "2023-05-25T10:28:52.727Z"
   },
   {
    "duration": 14,
    "start_time": "2023-05-25T10:29:01.940Z"
   },
   {
    "duration": 11,
    "start_time": "2023-05-25T10:29:12.230Z"
   },
   {
    "duration": 11,
    "start_time": "2023-05-25T10:29:14.772Z"
   },
   {
    "duration": 6,
    "start_time": "2023-05-25T10:29:55.543Z"
   },
   {
    "duration": 2181,
    "start_time": "2023-05-25T10:30:02.469Z"
   },
   {
    "duration": 1850,
    "start_time": "2023-05-25T10:30:04.652Z"
   },
   {
    "duration": 3,
    "start_time": "2023-05-25T10:30:06.507Z"
   },
   {
    "duration": 28,
    "start_time": "2023-05-25T10:30:06.513Z"
   },
   {
    "duration": 49,
    "start_time": "2023-05-25T10:30:06.543Z"
   },
   {
    "duration": 5,
    "start_time": "2023-05-25T10:30:06.594Z"
   },
   {
    "duration": 16,
    "start_time": "2023-05-25T10:30:06.601Z"
   },
   {
    "duration": 9,
    "start_time": "2023-05-25T10:30:06.619Z"
   },
   {
    "duration": 14,
    "start_time": "2023-05-25T10:30:06.631Z"
   },
   {
    "duration": 22,
    "start_time": "2023-05-25T10:30:06.647Z"
   },
   {
    "duration": 24,
    "start_time": "2023-05-25T10:30:06.672Z"
   },
   {
    "duration": 22,
    "start_time": "2023-05-25T10:30:06.698Z"
   },
   {
    "duration": 9,
    "start_time": "2023-05-25T10:30:06.723Z"
   },
   {
    "duration": 397,
    "start_time": "2023-05-25T10:30:06.734Z"
   },
   {
    "duration": 521,
    "start_time": "2023-05-25T10:30:07.133Z"
   },
   {
    "duration": 712,
    "start_time": "2023-05-25T10:30:07.656Z"
   },
   {
    "duration": 18,
    "start_time": "2023-05-25T10:30:08.370Z"
   },
   {
    "duration": 109,
    "start_time": "2023-05-25T10:30:08.390Z"
   },
   {
    "duration": 4,
    "start_time": "2023-05-25T10:30:08.501Z"
   },
   {
    "duration": 21,
    "start_time": "2023-05-25T10:30:08.507Z"
   },
   {
    "duration": 12,
    "start_time": "2023-05-25T10:30:08.530Z"
   },
   {
    "duration": 16,
    "start_time": "2023-05-25T10:30:08.543Z"
   },
   {
    "duration": 9,
    "start_time": "2023-05-25T10:30:08.561Z"
   },
   {
    "duration": 14,
    "start_time": "2023-05-25T10:30:08.572Z"
   },
   {
    "duration": 12,
    "start_time": "2023-05-25T10:30:08.588Z"
   },
   {
    "duration": 10,
    "start_time": "2023-05-25T10:30:08.601Z"
   },
   {
    "duration": 24,
    "start_time": "2023-05-25T10:30:08.614Z"
   },
   {
    "duration": 14,
    "start_time": "2023-05-25T10:30:08.640Z"
   },
   {
    "duration": 10,
    "start_time": "2023-05-25T10:30:08.656Z"
   },
   {
    "duration": 22,
    "start_time": "2023-05-25T10:30:08.668Z"
   },
   {
    "duration": 61,
    "start_time": "2023-05-25T10:30:08.692Z"
   },
   {
    "duration": 12,
    "start_time": "2023-05-25T10:30:08.754Z"
   },
   {
    "duration": 91,
    "start_time": "2023-05-25T10:30:08.768Z"
   },
   {
    "duration": 252,
    "start_time": "2023-05-25T10:30:08.861Z"
   },
   {
    "duration": 5,
    "start_time": "2023-05-25T10:33:43.394Z"
   },
   {
    "duration": 3077,
    "start_time": "2023-05-25T10:43:03.677Z"
   },
   {
    "duration": 393,
    "start_time": "2023-05-25T10:49:57.420Z"
   },
   {
    "duration": 522,
    "start_time": "2023-05-25T10:50:07.555Z"
   },
   {
    "duration": 396,
    "start_time": "2023-05-25T10:50:18.303Z"
   },
   {
    "duration": 14,
    "start_time": "2023-05-25T10:58:03.980Z"
   },
   {
    "duration": 13,
    "start_time": "2023-05-25T10:58:14.829Z"
   },
   {
    "duration": 2760,
    "start_time": "2023-05-25T10:59:05.528Z"
   },
   {
    "duration": 22,
    "start_time": "2023-05-25T10:59:15.783Z"
   },
   {
    "duration": 91,
    "start_time": "2023-05-25T10:59:58.046Z"
   },
   {
    "duration": 84,
    "start_time": "2023-05-25T11:00:09.252Z"
   },
   {
    "duration": 12,
    "start_time": "2023-05-25T11:09:19.193Z"
   },
   {
    "duration": 10,
    "start_time": "2023-05-25T11:09:58.706Z"
   },
   {
    "duration": 4,
    "start_time": "2023-05-25T11:11:47.942Z"
   },
   {
    "duration": 1963,
    "start_time": "2023-05-25T11:11:47.949Z"
   },
   {
    "duration": 4,
    "start_time": "2023-05-25T11:11:49.914Z"
   },
   {
    "duration": 15,
    "start_time": "2023-05-25T11:11:49.920Z"
   },
   {
    "duration": 59,
    "start_time": "2023-05-25T11:11:49.937Z"
   },
   {
    "duration": 5,
    "start_time": "2023-05-25T11:11:49.998Z"
   },
   {
    "duration": 20,
    "start_time": "2023-05-25T11:11:50.005Z"
   },
   {
    "duration": 21,
    "start_time": "2023-05-25T11:11:50.027Z"
   },
   {
    "duration": 25,
    "start_time": "2023-05-25T11:11:50.051Z"
   },
   {
    "duration": 12,
    "start_time": "2023-05-25T11:11:50.078Z"
   },
   {
    "duration": 28,
    "start_time": "2023-05-25T11:11:50.092Z"
   },
   {
    "duration": 18,
    "start_time": "2023-05-25T11:11:50.122Z"
   },
   {
    "duration": 17,
    "start_time": "2023-05-25T11:11:50.142Z"
   },
   {
    "duration": 458,
    "start_time": "2023-05-25T11:11:50.161Z"
   },
   {
    "duration": 546,
    "start_time": "2023-05-25T11:11:50.621Z"
   },
   {
    "duration": 712,
    "start_time": "2023-05-25T11:11:51.169Z"
   },
   {
    "duration": 19,
    "start_time": "2023-05-25T11:11:51.884Z"
   },
   {
    "duration": 108,
    "start_time": "2023-05-25T11:11:51.904Z"
   },
   {
    "duration": 110,
    "start_time": "2023-05-25T11:11:52.014Z"
   },
   {
    "duration": 5,
    "start_time": "2023-05-25T11:11:52.125Z"
   },
   {
    "duration": 18,
    "start_time": "2023-05-25T11:11:52.132Z"
   },
   {
    "duration": 6,
    "start_time": "2023-05-25T11:11:52.151Z"
   },
   {
    "duration": 19,
    "start_time": "2023-05-25T11:11:52.159Z"
   },
   {
    "duration": 20,
    "start_time": "2023-05-25T11:11:52.182Z"
   },
   {
    "duration": 14,
    "start_time": "2023-05-25T11:11:52.204Z"
   },
   {
    "duration": 20,
    "start_time": "2023-05-25T11:11:52.220Z"
   },
   {
    "duration": 28,
    "start_time": "2023-05-25T11:11:52.241Z"
   },
   {
    "duration": 15,
    "start_time": "2023-05-25T11:11:52.271Z"
   },
   {
    "duration": 6,
    "start_time": "2023-05-25T11:11:52.288Z"
   },
   {
    "duration": 10,
    "start_time": "2023-05-25T11:11:52.295Z"
   },
   {
    "duration": 44,
    "start_time": "2023-05-25T11:11:52.306Z"
   },
   {
    "duration": 6,
    "start_time": "2023-05-25T11:11:52.352Z"
   },
   {
    "duration": 58921,
    "start_time": "2023-05-26T08:38:02.077Z"
   },
   {
    "duration": 224,
    "start_time": "2023-05-26T08:39:01.076Z"
   },
   {
    "duration": 0,
    "start_time": "2023-05-26T08:39:01.302Z"
   },
   {
    "duration": 0,
    "start_time": "2023-05-26T08:39:01.304Z"
   },
   {
    "duration": 0,
    "start_time": "2023-05-26T08:39:01.377Z"
   },
   {
    "duration": 0,
    "start_time": "2023-05-26T08:39:01.379Z"
   },
   {
    "duration": 0,
    "start_time": "2023-05-26T08:39:01.380Z"
   },
   {
    "duration": 0,
    "start_time": "2023-05-26T08:39:01.384Z"
   },
   {
    "duration": 0,
    "start_time": "2023-05-26T08:39:01.385Z"
   },
   {
    "duration": 0,
    "start_time": "2023-05-26T08:39:01.386Z"
   },
   {
    "duration": 0,
    "start_time": "2023-05-26T08:39:01.388Z"
   },
   {
    "duration": 0,
    "start_time": "2023-05-26T08:39:01.401Z"
   },
   {
    "duration": 0,
    "start_time": "2023-05-26T08:39:01.403Z"
   },
   {
    "duration": 0,
    "start_time": "2023-05-26T08:39:01.404Z"
   },
   {
    "duration": 0,
    "start_time": "2023-05-26T08:39:01.404Z"
   },
   {
    "duration": 0,
    "start_time": "2023-05-26T08:39:01.405Z"
   },
   {
    "duration": 0,
    "start_time": "2023-05-26T08:39:01.477Z"
   },
   {
    "duration": 0,
    "start_time": "2023-05-26T08:39:01.478Z"
   },
   {
    "duration": 0,
    "start_time": "2023-05-26T08:39:01.480Z"
   },
   {
    "duration": 0,
    "start_time": "2023-05-26T08:39:01.481Z"
   },
   {
    "duration": 0,
    "start_time": "2023-05-26T08:39:01.483Z"
   },
   {
    "duration": 0,
    "start_time": "2023-05-26T08:39:01.484Z"
   },
   {
    "duration": 0,
    "start_time": "2023-05-26T08:39:01.485Z"
   },
   {
    "duration": 0,
    "start_time": "2023-05-26T08:39:01.486Z"
   },
   {
    "duration": 0,
    "start_time": "2023-05-26T08:39:01.488Z"
   },
   {
    "duration": 0,
    "start_time": "2023-05-26T08:39:01.489Z"
   },
   {
    "duration": 0,
    "start_time": "2023-05-26T08:39:01.490Z"
   },
   {
    "duration": 0,
    "start_time": "2023-05-26T08:39:01.492Z"
   },
   {
    "duration": 0,
    "start_time": "2023-05-26T08:39:01.493Z"
   },
   {
    "duration": 0,
    "start_time": "2023-05-26T08:39:01.494Z"
   },
   {
    "duration": 0,
    "start_time": "2023-05-26T08:39:01.496Z"
   },
   {
    "duration": 0,
    "start_time": "2023-05-26T08:39:01.497Z"
   },
   {
    "duration": 11322,
    "start_time": "2023-05-26T08:41:11.275Z"
   },
   {
    "duration": 376,
    "start_time": "2023-05-26T08:41:22.598Z"
   },
   {
    "duration": 0,
    "start_time": "2023-05-26T08:41:22.978Z"
   },
   {
    "duration": 0,
    "start_time": "2023-05-26T08:41:22.979Z"
   },
   {
    "duration": 0,
    "start_time": "2023-05-26T08:41:22.981Z"
   },
   {
    "duration": 0,
    "start_time": "2023-05-26T08:41:22.984Z"
   },
   {
    "duration": 0,
    "start_time": "2023-05-26T08:41:22.985Z"
   },
   {
    "duration": 0,
    "start_time": "2023-05-26T08:41:22.986Z"
   },
   {
    "duration": 0,
    "start_time": "2023-05-26T08:41:22.987Z"
   },
   {
    "duration": 0,
    "start_time": "2023-05-26T08:41:22.989Z"
   },
   {
    "duration": 0,
    "start_time": "2023-05-26T08:41:22.992Z"
   },
   {
    "duration": 0,
    "start_time": "2023-05-26T08:41:22.993Z"
   },
   {
    "duration": 0,
    "start_time": "2023-05-26T08:41:22.994Z"
   },
   {
    "duration": 0,
    "start_time": "2023-05-26T08:41:23.074Z"
   },
   {
    "duration": 0,
    "start_time": "2023-05-26T08:41:23.076Z"
   },
   {
    "duration": 0,
    "start_time": "2023-05-26T08:41:23.077Z"
   },
   {
    "duration": 0,
    "start_time": "2023-05-26T08:41:23.078Z"
   },
   {
    "duration": 0,
    "start_time": "2023-05-26T08:41:23.079Z"
   },
   {
    "duration": 0,
    "start_time": "2023-05-26T08:41:23.080Z"
   },
   {
    "duration": 0,
    "start_time": "2023-05-26T08:41:23.082Z"
   },
   {
    "duration": 0,
    "start_time": "2023-05-26T08:41:23.083Z"
   },
   {
    "duration": 0,
    "start_time": "2023-05-26T08:41:23.084Z"
   },
   {
    "duration": 0,
    "start_time": "2023-05-26T08:41:23.085Z"
   },
   {
    "duration": 0,
    "start_time": "2023-05-26T08:41:23.086Z"
   },
   {
    "duration": 0,
    "start_time": "2023-05-26T08:41:23.087Z"
   },
   {
    "duration": 0,
    "start_time": "2023-05-26T08:41:23.090Z"
   },
   {
    "duration": 0,
    "start_time": "2023-05-26T08:41:23.091Z"
   },
   {
    "duration": 0,
    "start_time": "2023-05-26T08:41:23.092Z"
   },
   {
    "duration": 0,
    "start_time": "2023-05-26T08:41:23.093Z"
   },
   {
    "duration": 0,
    "start_time": "2023-05-26T08:41:23.094Z"
   },
   {
    "duration": 0,
    "start_time": "2023-05-26T08:41:23.098Z"
   },
   {
    "duration": 0,
    "start_time": "2023-05-26T08:41:23.175Z"
   },
   {
    "duration": 11718,
    "start_time": "2023-05-26T08:41:38.375Z"
   },
   {
    "duration": 14199,
    "start_time": "2023-05-26T08:41:50.096Z"
   },
   {
    "duration": 11292,
    "start_time": "2023-05-26T08:42:04.299Z"
   },
   {
    "duration": 82,
    "start_time": "2023-05-26T08:42:15.593Z"
   },
   {
    "duration": 99,
    "start_time": "2023-05-26T08:42:15.678Z"
   },
   {
    "duration": 415,
    "start_time": "2023-05-26T08:42:15.778Z"
   },
   {
    "duration": 27,
    "start_time": "2023-05-26T08:42:16.276Z"
   },
   {
    "duration": 91,
    "start_time": "2023-05-26T08:42:16.304Z"
   },
   {
    "duration": 89,
    "start_time": "2023-05-26T08:42:16.401Z"
   },
   {
    "duration": 82,
    "start_time": "2023-05-26T08:42:16.498Z"
   },
   {
    "duration": 7,
    "start_time": "2023-05-26T08:42:16.585Z"
   },
   {
    "duration": 91,
    "start_time": "2023-05-26T08:42:16.593Z"
   },
   {
    "duration": 200,
    "start_time": "2023-05-26T08:42:16.688Z"
   },
   {
    "duration": 88,
    "start_time": "2023-05-26T08:42:16.895Z"
   },
   {
    "duration": 2311,
    "start_time": "2023-05-26T08:42:16.987Z"
   },
   {
    "duration": 3072,
    "start_time": "2023-05-26T08:42:19.304Z"
   },
   {
    "duration": 2297,
    "start_time": "2023-05-26T08:42:22.382Z"
   },
   {
    "duration": 107,
    "start_time": "2023-05-26T08:42:24.685Z"
   },
   {
    "duration": 386,
    "start_time": "2023-05-26T08:42:24.799Z"
   },
   {
    "duration": 486,
    "start_time": "2023-05-26T08:42:25.194Z"
   },
   {
    "duration": 14,
    "start_time": "2023-05-26T08:42:25.683Z"
   },
   {
    "duration": 10,
    "start_time": "2023-05-26T08:42:25.781Z"
   },
   {
    "duration": 90,
    "start_time": "2023-05-26T08:42:25.797Z"
   },
   {
    "duration": 185,
    "start_time": "2023-05-26T08:42:25.896Z"
   },
   {
    "duration": 90,
    "start_time": "2023-05-26T08:42:26.086Z"
   },
   {
    "duration": 15,
    "start_time": "2023-05-26T08:42:26.190Z"
   },
   {
    "duration": 19,
    "start_time": "2023-05-26T08:42:26.281Z"
   },
   {
    "duration": 15,
    "start_time": "2023-05-26T08:42:26.378Z"
   },
   {
    "duration": 85,
    "start_time": "2023-05-26T08:42:26.397Z"
   },
   {
    "duration": 13,
    "start_time": "2023-05-26T08:42:26.485Z"
   },
   {
    "duration": 84,
    "start_time": "2023-05-26T08:42:26.500Z"
   },
   {
    "duration": 104,
    "start_time": "2023-05-26T08:42:26.591Z"
   },
   {
    "duration": 17,
    "start_time": "2023-05-26T08:42:26.776Z"
   }
  ],
  "kernelspec": {
   "display_name": "Python 3 (ipykernel)",
   "language": "python",
   "name": "python3"
  },
  "language_info": {
   "codemirror_mode": {
    "name": "ipython",
    "version": 3
   },
   "file_extension": ".py",
   "mimetype": "text/x-python",
   "name": "python",
   "nbconvert_exporter": "python",
   "pygments_lexer": "ipython3",
   "version": "3.10.9"
  },
  "toc": {
   "base_numbering": 1,
   "nav_menu": {},
   "number_sections": true,
   "sideBar": true,
   "skip_h1_title": true,
   "title_cell": "Содержание",
   "title_sidebar": "Contents",
   "toc_cell": true,
   "toc_position": {
    "height": "calc(100% - 180px)",
    "left": "10px",
    "top": "150px",
    "width": "303.837px"
   },
   "toc_section_display": true,
   "toc_window_display": false
  }
 },
 "nbformat": 4,
 "nbformat_minor": 2
}
